{
 "cells": [
  {
   "cell_type": "markdown",
   "id": "d8403096",
   "metadata": {
    "papermill": {
     "duration": 0.007803,
     "end_time": "2025-01-22T15:48:12.240398",
     "exception": false,
     "start_time": "2025-01-22T15:48:12.232595",
     "status": "completed"
    },
    "tags": []
   },
   "source": [
    "# **Explicit-Implicit Relevance Judgements Correlation Analysis.**\n"
   ]
  },
  {
   "cell_type": "markdown",
   "id": "e424abd2",
   "metadata": {
    "papermill": {
     "duration": 0.005997,
     "end_time": "2025-01-22T15:48:12.252758",
     "exception": false,
     "start_time": "2025-01-22T15:48:12.246761",
     "status": "completed"
    },
    "tags": []
   },
   "source": [
    "* [Introduction](#Introduction)\n",
    "* [Loading the ES dataset](#Loading)\n",
    "* [Strip Plot](#Strip)\n",
    "* [Interpreting the Correlation Coefficient](#Interpreting)\n",
    "* [Person versus Spearman](#Pearson)\n",
    "* [Statistical Power](#Power)"
   ]
  },
  {
   "cell_type": "markdown",
   "id": "078c0b14",
   "metadata": {
    "papermill": {
     "duration": 0.005965,
     "end_time": "2025-01-22T15:48:12.264860",
     "exception": false,
     "start_time": "2025-01-22T15:48:12.258895",
     "status": "completed"
    },
    "tags": []
   },
   "source": [
    "# **Introduction**  <a class=\"anchor\"  id=\"Introduction\"></a>\n",
    "Learning to Rank (LTR) has traditionally made use of relevance judgements (i.e. human annotations) to create training data for ranking models. But, gathering feedback in the form of relevance judgements is expensive, time-consuming and may be subject to annotator bias. Much research has been carried out by commercial web search providers into harnessing click-through data and using it as a surrogate for relevance judgements. Its use in Enterprise Search (ES), however, has not been explored. If click-through data relevance feedback correlates with that of the human relevance judgements, we could dispense with small relevance judgement training data and rely entirely on abundant quantities of click-through data. \n",
    "\n",
    "We performed a correlation analysis and compared the ranking performance of a ‘real world’ ES service of a large organisation using both relevance judgements and click-through data. We introduce and publish the ENTRP-SRCH dataset specifically for ES. \n",
    "\n",
    "We calculated a correlation coefficient of ρ = 0.704 (p<0.01). Additionally, the nDCG@3 ranking performance using relevance judgements is just 1.6% higher than when click-through data is used. Subsequently, we discuss ES implementation trade-offs between relevance judgements and implicit feedback and highlight potential preferences and biases of both end-users and expert annotators."
   ]
  },
  {
   "cell_type": "code",
   "execution_count": 1,
   "id": "2024ce48",
   "metadata": {
    "_cell_guid": "b1076dfc-b9ad-4769-8c92-a6c4dae69d19",
    "_uuid": "8f2839f25d086af736a60e9eeb907d3b93b6e0e5",
    "execution": {
     "iopub.execute_input": "2025-01-22T15:48:12.278947Z",
     "iopub.status.busy": "2025-01-22T15:48:12.278509Z",
     "iopub.status.idle": "2025-01-22T15:48:12.300195Z",
     "shell.execute_reply": "2025-01-22T15:48:12.299056Z"
    },
    "papermill": {
     "duration": 0.031831,
     "end_time": "2025-01-22T15:48:12.302813",
     "exception": false,
     "start_time": "2025-01-22T15:48:12.270982",
     "status": "completed"
    },
    "tags": []
   },
   "outputs": [
    {
     "name": "stdout",
     "output_type": "stream",
     "text": [
      "/kaggle/input/entrp-srch/ENTRP-SRCH-v14.txt\n",
      "/kaggle/input/entrp-srch/dataset-with-urls.txt\n",
      "/kaggle/input/explicitimplicitv5/explicit-implicit-v5.csv\n",
      "/kaggle/input/explicitimplicitv5/explicit-implicit-v6.csv\n"
     ]
    }
   ],
   "source": [
    "\n",
    "import numpy as np # linear algebra\n",
    "import pandas as pd # data processing, CSV file I/O (e.g. pd.read_csv)\n",
    "\n",
    "\n",
    "import os\n",
    "for dirname, _, filenames in os.walk('/kaggle/input'):\n",
    "    for filename in filenames:\n",
    "        print(os.path.join(dirname, filename))\n",
    "\n"
   ]
  },
  {
   "cell_type": "code",
   "execution_count": 2,
   "id": "56c9faf1",
   "metadata": {
    "execution": {
     "iopub.execute_input": "2025-01-22T15:48:12.318532Z",
     "iopub.status.busy": "2025-01-22T15:48:12.317605Z",
     "iopub.status.idle": "2025-01-22T15:48:12.322585Z",
     "shell.execute_reply": "2025-01-22T15:48:12.321510Z"
    },
    "papermill": {
     "duration": 0.015229,
     "end_time": "2025-01-22T15:48:12.324683",
     "exception": false,
     "start_time": "2025-01-22T15:48:12.309454",
     "status": "completed"
    },
    "tags": []
   },
   "outputs": [],
   "source": [
    "#!pip3 install -U datapane >/dev/null 2>&1"
   ]
  },
  {
   "cell_type": "code",
   "execution_count": 3,
   "id": "a4b75cbc",
   "metadata": {
    "execution": {
     "iopub.execute_input": "2025-01-22T15:48:12.339683Z",
     "iopub.status.busy": "2025-01-22T15:48:12.339226Z",
     "iopub.status.idle": "2025-01-22T15:48:12.343822Z",
     "shell.execute_reply": "2025-01-22T15:48:12.342779Z"
    },
    "papermill": {
     "duration": 0.014667,
     "end_time": "2025-01-22T15:48:12.346035",
     "exception": false,
     "start_time": "2025-01-22T15:48:12.331368",
     "status": "completed"
    },
    "tags": []
   },
   "outputs": [],
   "source": [
    "#!pip3 install -U jinja2"
   ]
  },
  {
   "cell_type": "markdown",
   "id": "1861f992",
   "metadata": {
    "papermill": {
     "duration": 0.006333,
     "end_time": "2025-01-22T15:48:12.359015",
     "exception": false,
     "start_time": "2025-01-22T15:48:12.352682",
     "status": "completed"
    },
    "tags": []
   },
   "source": [
    "# **Loading the ES dataset**  <a class=\"anchor\"  id=\"Loading\"></a>"
   ]
  },
  {
   "cell_type": "code",
   "execution_count": 4,
   "id": "fbd71360",
   "metadata": {
    "execution": {
     "iopub.execute_input": "2025-01-22T15:48:12.373748Z",
     "iopub.status.busy": "2025-01-22T15:48:12.373370Z",
     "iopub.status.idle": "2025-01-22T15:48:13.691466Z",
     "shell.execute_reply": "2025-01-22T15:48:13.690256Z"
    },
    "papermill": {
     "duration": 1.328657,
     "end_time": "2025-01-22T15:48:13.694285",
     "exception": false,
     "start_time": "2025-01-22T15:48:12.365628",
     "status": "completed"
    },
    "tags": []
   },
   "outputs": [],
   "source": [
    "import seaborn as sns\n",
    "import altair as alt \n",
    "import pandas as pd\n",
    "\n",
    "\n",
    "#exim=pd.read_csv(\"/kaggle/input/explicitimplicitv5/explicit-implicit-v6.csv\")\n",
    "\n",
    "exim=pd.read_csv(\"/kaggle/input/entrp-srch/ENTRP-SRCH-v14.txt\",sep='\\s+', header=None, names=[\"HUMAN\", \"QID\", \"BM25\", \"RECENCY\", \"CONTACT\", \"ABOUT\", \"RAWHITS\",\"URL-LEN\",\"LINKRANK\",\"CTR-6\"])"
   ]
  },
  {
   "cell_type": "code",
   "execution_count": 5,
   "id": "7b482daa",
   "metadata": {
    "execution": {
     "iopub.execute_input": "2025-01-22T15:48:13.709281Z",
     "iopub.status.busy": "2025-01-22T15:48:13.708846Z",
     "iopub.status.idle": "2025-01-22T15:48:13.721873Z",
     "shell.execute_reply": "2025-01-22T15:48:13.720711Z"
    },
    "papermill": {
     "duration": 0.0235,
     "end_time": "2025-01-22T15:48:13.724470",
     "exception": false,
     "start_time": "2025-01-22T15:48:13.700970",
     "status": "completed"
    },
    "tags": []
   },
   "outputs": [],
   "source": [
    "exim['CTR-6'] = exim['CTR-6'].str[2:]"
   ]
  },
  {
   "cell_type": "code",
   "execution_count": 6,
   "id": "f94fd14f",
   "metadata": {
    "execution": {
     "iopub.execute_input": "2025-01-22T15:48:13.740124Z",
     "iopub.status.busy": "2025-01-22T15:48:13.739695Z",
     "iopub.status.idle": "2025-01-22T15:48:13.753684Z",
     "shell.execute_reply": "2025-01-22T15:48:13.752511Z"
    },
    "papermill": {
     "duration": 0.024416,
     "end_time": "2025-01-22T15:48:13.756048",
     "exception": false,
     "start_time": "2025-01-22T15:48:13.731632",
     "status": "completed"
    },
    "tags": []
   },
   "outputs": [],
   "source": [
    "#exim[\"HUMAN\"] = pd.to_numeric(exim[\"HUMAN\"])\n",
    "# convert just columns \"a\" and \"b\"\n",
    "exim[[\"HUMAN\", \"CTR-6\"]] = exim[[\"HUMAN\", \"CTR-6\"]].apply(pd.to_numeric)\n"
   ]
  },
  {
   "cell_type": "code",
   "execution_count": 7,
   "id": "f14c9f41",
   "metadata": {
    "execution": {
     "iopub.execute_input": "2025-01-22T15:48:13.771645Z",
     "iopub.status.busy": "2025-01-22T15:48:13.771218Z",
     "iopub.status.idle": "2025-01-22T15:48:13.775801Z",
     "shell.execute_reply": "2025-01-22T15:48:13.774742Z"
    },
    "papermill": {
     "duration": 0.015176,
     "end_time": "2025-01-22T15:48:13.777964",
     "exception": false,
     "start_time": "2025-01-22T15:48:13.762788",
     "status": "completed"
    },
    "tags": []
   },
   "outputs": [],
   "source": [
    "#exim = exim.dropna()\n"
   ]
  },
  {
   "cell_type": "code",
   "execution_count": 8,
   "id": "a79138ca",
   "metadata": {
    "execution": {
     "iopub.execute_input": "2025-01-22T15:48:13.792962Z",
     "iopub.status.busy": "2025-01-22T15:48:13.792567Z",
     "iopub.status.idle": "2025-01-22T15:48:13.815608Z",
     "shell.execute_reply": "2025-01-22T15:48:13.814517Z"
    },
    "papermill": {
     "duration": 0.033659,
     "end_time": "2025-01-22T15:48:13.818312",
     "exception": false,
     "start_time": "2025-01-22T15:48:13.784653",
     "status": "completed"
    },
    "tags": []
   },
   "outputs": [
    {
     "data": {
      "text/html": [
       "<div>\n",
       "<style scoped>\n",
       "    .dataframe tbody tr th:only-of-type {\n",
       "        vertical-align: middle;\n",
       "    }\n",
       "\n",
       "    .dataframe tbody tr th {\n",
       "        vertical-align: top;\n",
       "    }\n",
       "\n",
       "    .dataframe thead th {\n",
       "        text-align: right;\n",
       "    }\n",
       "</style>\n",
       "<table border=\"1\" class=\"dataframe\">\n",
       "  <thead>\n",
       "    <tr style=\"text-align: right;\">\n",
       "      <th></th>\n",
       "      <th>HUMAN</th>\n",
       "      <th>QID</th>\n",
       "      <th>BM25</th>\n",
       "      <th>RECENCY</th>\n",
       "      <th>CONTACT</th>\n",
       "      <th>ABOUT</th>\n",
       "      <th>RAWHITS</th>\n",
       "      <th>URL-LEN</th>\n",
       "      <th>LINKRANK</th>\n",
       "      <th>CTR-6</th>\n",
       "    </tr>\n",
       "  </thead>\n",
       "  <tbody>\n",
       "    <tr>\n",
       "      <th>0</th>\n",
       "      <td>5</td>\n",
       "      <td>qid:1</td>\n",
       "      <td>1:7.901979</td>\n",
       "      <td>2:0.17024133</td>\n",
       "      <td>3:0.0</td>\n",
       "      <td>4:0.0</td>\n",
       "      <td>5:34.0</td>\n",
       "      <td>6:6.0</td>\n",
       "      <td>7:1.080049</td>\n",
       "      <td>0.190</td>\n",
       "    </tr>\n",
       "    <tr>\n",
       "      <th>1</th>\n",
       "      <td>3</td>\n",
       "      <td>qid:1</td>\n",
       "      <td>1:7.886458</td>\n",
       "      <td>2:0.24574098</td>\n",
       "      <td>3:0.0</td>\n",
       "      <td>4:0.0</td>\n",
       "      <td>5:22.0</td>\n",
       "      <td>6:8.0</td>\n",
       "      <td>7:0.42990547</td>\n",
       "      <td>0.040</td>\n",
       "    </tr>\n",
       "    <tr>\n",
       "      <th>2</th>\n",
       "      <td>4</td>\n",
       "      <td>qid:1</td>\n",
       "      <td>1:6.097526</td>\n",
       "      <td>2:0.30741006</td>\n",
       "      <td>3:0.0</td>\n",
       "      <td>4:0.0</td>\n",
       "      <td>5:22.0</td>\n",
       "      <td>6:7.0</td>\n",
       "      <td>7:0.4299054</td>\n",
       "      <td>0.030</td>\n",
       "    </tr>\n",
       "    <tr>\n",
       "      <th>3</th>\n",
       "      <td>5</td>\n",
       "      <td>qid:1</td>\n",
       "      <td>1:8.518949</td>\n",
       "      <td>2:0.30792695</td>\n",
       "      <td>3:0.0</td>\n",
       "      <td>4:1.0</td>\n",
       "      <td>5:4.0</td>\n",
       "      <td>6:7.0</td>\n",
       "      <td>7:0.42990547</td>\n",
       "      <td>0.090</td>\n",
       "    </tr>\n",
       "    <tr>\n",
       "      <th>4</th>\n",
       "      <td>3</td>\n",
       "      <td>qid:1</td>\n",
       "      <td>1:4.9042683</td>\n",
       "      <td>2:0.31480822</td>\n",
       "      <td>3:0.0</td>\n",
       "      <td>4:0.0</td>\n",
       "      <td>5:22.0</td>\n",
       "      <td>6:9.0</td>\n",
       "      <td>7:0.42990544</td>\n",
       "      <td>0.000</td>\n",
       "    </tr>\n",
       "    <tr>\n",
       "      <th>5</th>\n",
       "      <td>5</td>\n",
       "      <td>qid:1</td>\n",
       "      <td>1:8.338974</td>\n",
       "      <td>2:0.3061254</td>\n",
       "      <td>3:1.0</td>\n",
       "      <td>4:0.0</td>\n",
       "      <td>5:1.0</td>\n",
       "      <td>6:7.0</td>\n",
       "      <td>7:0.42990547</td>\n",
       "      <td>0.040</td>\n",
       "    </tr>\n",
       "    <tr>\n",
       "      <th>6</th>\n",
       "      <td>5</td>\n",
       "      <td>qid:1</td>\n",
       "      <td>1:7.886458</td>\n",
       "      <td>2:0.13792998</td>\n",
       "      <td>3:0.0</td>\n",
       "      <td>4:0.0</td>\n",
       "      <td>5:4.0</td>\n",
       "      <td>6:7.0</td>\n",
       "      <td>7:0.17706141</td>\n",
       "      <td>0.170</td>\n",
       "    </tr>\n",
       "    <tr>\n",
       "      <th>7</th>\n",
       "      <td>3</td>\n",
       "      <td>qid:1</td>\n",
       "      <td>1:6.806793</td>\n",
       "      <td>2:0.3068949</td>\n",
       "      <td>3:0.0</td>\n",
       "      <td>4:0.0</td>\n",
       "      <td>5:8.0</td>\n",
       "      <td>6:7.0</td>\n",
       "      <td>7:0.4299054</td>\n",
       "      <td>0.001</td>\n",
       "    </tr>\n",
       "    <tr>\n",
       "      <th>8</th>\n",
       "      <td>3</td>\n",
       "      <td>qid:1</td>\n",
       "      <td>1:7.7742815</td>\n",
       "      <td>2:0.20971979</td>\n",
       "      <td>3:0.0</td>\n",
       "      <td>4:0.0</td>\n",
       "      <td>5:6.0</td>\n",
       "      <td>6:8.0</td>\n",
       "      <td>7:0.42990547</td>\n",
       "      <td>0.040</td>\n",
       "    </tr>\n",
       "    <tr>\n",
       "      <th>9</th>\n",
       "      <td>4</td>\n",
       "      <td>qid:1</td>\n",
       "      <td>1:6.4255433</td>\n",
       "      <td>2:0.24574098</td>\n",
       "      <td>3:0.0</td>\n",
       "      <td>4:0.0</td>\n",
       "      <td>5:10.0</td>\n",
       "      <td>6:8.0</td>\n",
       "      <td>7:0.42990547</td>\n",
       "      <td>0.060</td>\n",
       "    </tr>\n",
       "    <tr>\n",
       "      <th>10</th>\n",
       "      <td>4</td>\n",
       "      <td>qid:1</td>\n",
       "      <td>1:7.8942113</td>\n",
       "      <td>2:0.18163878</td>\n",
       "      <td>3:0.0</td>\n",
       "      <td>4:0.0</td>\n",
       "      <td>5:2.0</td>\n",
       "      <td>6:7.0</td>\n",
       "      <td>7:0.42990547</td>\n",
       "      <td>0.010</td>\n",
       "    </tr>\n",
       "    <tr>\n",
       "      <th>11</th>\n",
       "      <td>4</td>\n",
       "      <td>qid:1</td>\n",
       "      <td>1:7.8942113</td>\n",
       "      <td>2:0.13792998</td>\n",
       "      <td>3:0.0</td>\n",
       "      <td>4:0.0</td>\n",
       "      <td>5:2.0</td>\n",
       "      <td>6:7.0</td>\n",
       "      <td>7:0.42990553</td>\n",
       "      <td>0.010</td>\n",
       "    </tr>\n",
       "    <tr>\n",
       "      <th>12</th>\n",
       "      <td>4</td>\n",
       "      <td>qid:1</td>\n",
       "      <td>1:5.419501</td>\n",
       "      <td>2:0.24574098</td>\n",
       "      <td>3:0.0</td>\n",
       "      <td>4:0.0</td>\n",
       "      <td>5:12.0</td>\n",
       "      <td>6:8.0</td>\n",
       "      <td>7:0.42990544</td>\n",
       "      <td>0.030</td>\n",
       "    </tr>\n",
       "    <tr>\n",
       "      <th>13</th>\n",
       "      <td>4</td>\n",
       "      <td>qid:1</td>\n",
       "      <td>1:7.347151</td>\n",
       "      <td>2:0.26961926</td>\n",
       "      <td>3:0.0</td>\n",
       "      <td>4:0.0</td>\n",
       "      <td>5:4.0</td>\n",
       "      <td>6:8.0</td>\n",
       "      <td>7:0.17718421</td>\n",
       "      <td>0.010</td>\n",
       "    </tr>\n",
       "    <tr>\n",
       "      <th>14</th>\n",
       "      <td>4</td>\n",
       "      <td>qid:1</td>\n",
       "      <td>1:7.347151</td>\n",
       "      <td>2:0.2692229</td>\n",
       "      <td>3:0.0</td>\n",
       "      <td>4:0.0</td>\n",
       "      <td>5:1.0</td>\n",
       "      <td>6:7.0</td>\n",
       "      <td>7:0.42990547</td>\n",
       "      <td>0.010</td>\n",
       "    </tr>\n",
       "  </tbody>\n",
       "</table>\n",
       "</div>"
      ],
      "text/plain": [
       "    HUMAN    QID         BM25       RECENCY CONTACT  ABOUT RAWHITS URL-LEN  \\\n",
       "0       5  qid:1   1:7.901979  2:0.17024133   3:0.0  4:0.0  5:34.0   6:6.0   \n",
       "1       3  qid:1   1:7.886458  2:0.24574098   3:0.0  4:0.0  5:22.0   6:8.0   \n",
       "2       4  qid:1   1:6.097526  2:0.30741006   3:0.0  4:0.0  5:22.0   6:7.0   \n",
       "3       5  qid:1   1:8.518949  2:0.30792695   3:0.0  4:1.0   5:4.0   6:7.0   \n",
       "4       3  qid:1  1:4.9042683  2:0.31480822   3:0.0  4:0.0  5:22.0   6:9.0   \n",
       "5       5  qid:1   1:8.338974   2:0.3061254   3:1.0  4:0.0   5:1.0   6:7.0   \n",
       "6       5  qid:1   1:7.886458  2:0.13792998   3:0.0  4:0.0   5:4.0   6:7.0   \n",
       "7       3  qid:1   1:6.806793   2:0.3068949   3:0.0  4:0.0   5:8.0   6:7.0   \n",
       "8       3  qid:1  1:7.7742815  2:0.20971979   3:0.0  4:0.0   5:6.0   6:8.0   \n",
       "9       4  qid:1  1:6.4255433  2:0.24574098   3:0.0  4:0.0  5:10.0   6:8.0   \n",
       "10      4  qid:1  1:7.8942113  2:0.18163878   3:0.0  4:0.0   5:2.0   6:7.0   \n",
       "11      4  qid:1  1:7.8942113  2:0.13792998   3:0.0  4:0.0   5:2.0   6:7.0   \n",
       "12      4  qid:1   1:5.419501  2:0.24574098   3:0.0  4:0.0  5:12.0   6:8.0   \n",
       "13      4  qid:1   1:7.347151  2:0.26961926   3:0.0  4:0.0   5:4.0   6:8.0   \n",
       "14      4  qid:1   1:7.347151   2:0.2692229   3:0.0  4:0.0   5:1.0   6:7.0   \n",
       "\n",
       "        LINKRANK  CTR-6  \n",
       "0     7:1.080049  0.190  \n",
       "1   7:0.42990547  0.040  \n",
       "2    7:0.4299054  0.030  \n",
       "3   7:0.42990547  0.090  \n",
       "4   7:0.42990544  0.000  \n",
       "5   7:0.42990547  0.040  \n",
       "6   7:0.17706141  0.170  \n",
       "7    7:0.4299054  0.001  \n",
       "8   7:0.42990547  0.040  \n",
       "9   7:0.42990547  0.060  \n",
       "10  7:0.42990547  0.010  \n",
       "11  7:0.42990553  0.010  \n",
       "12  7:0.42990544  0.030  \n",
       "13  7:0.17718421  0.010  \n",
       "14  7:0.42990547  0.010  "
      ]
     },
     "execution_count": 8,
     "metadata": {},
     "output_type": "execute_result"
    }
   ],
   "source": [
    "exim.head(15)"
   ]
  },
  {
   "cell_type": "code",
   "execution_count": 9,
   "id": "a29539c8",
   "metadata": {
    "execution": {
     "iopub.execute_input": "2025-01-22T15:48:13.836240Z",
     "iopub.status.busy": "2025-01-22T15:48:13.835263Z",
     "iopub.status.idle": "2025-01-22T15:48:13.846617Z",
     "shell.execute_reply": "2025-01-22T15:48:13.845542Z"
    },
    "papermill": {
     "duration": 0.022691,
     "end_time": "2025-01-22T15:48:13.848779",
     "exception": false,
     "start_time": "2025-01-22T15:48:13.826088",
     "status": "completed"
    },
    "tags": []
   },
   "outputs": [
    {
     "data": {
      "text/plain": [
       "HUMAN       2554\n",
       "QID         2554\n",
       "BM25        2554\n",
       "RECENCY     2554\n",
       "CONTACT     2554\n",
       "ABOUT       2554\n",
       "RAWHITS     2554\n",
       "URL-LEN     2554\n",
       "LINKRANK    2554\n",
       "CTR-6       2554\n",
       "dtype: int64"
      ]
     },
     "execution_count": 9,
     "metadata": {},
     "output_type": "execute_result"
    }
   ],
   "source": [
    "exim.count()"
   ]
  },
  {
   "cell_type": "code",
   "execution_count": 10,
   "id": "d0032c68",
   "metadata": {
    "execution": {
     "iopub.execute_input": "2025-01-22T15:48:13.864383Z",
     "iopub.status.busy": "2025-01-22T15:48:13.863976Z",
     "iopub.status.idle": "2025-01-22T15:48:13.868390Z",
     "shell.execute_reply": "2025-01-22T15:48:13.867362Z"
    },
    "papermill": {
     "duration": 0.014744,
     "end_time": "2025-01-22T15:48:13.870561",
     "exception": false,
     "start_time": "2025-01-22T15:48:13.855817",
     "status": "completed"
    },
    "tags": []
   },
   "outputs": [],
   "source": [
    "#  USE CTR AS BASELINE\n",
    "# eclude those documents that have no (NULL) CTR score when using ENTRP-SRCH dataset\n",
    "#exim = exim[exim[\"CTR-6\"] != 0.00]   "
   ]
  },
  {
   "cell_type": "code",
   "execution_count": 11,
   "id": "1a5713d6",
   "metadata": {
    "execution": {
     "iopub.execute_input": "2025-01-22T15:48:13.886566Z",
     "iopub.status.busy": "2025-01-22T15:48:13.885793Z",
     "iopub.status.idle": "2025-01-22T15:48:13.891200Z",
     "shell.execute_reply": "2025-01-22T15:48:13.890177Z"
    },
    "papermill": {
     "duration": 0.016315,
     "end_time": "2025-01-22T15:48:13.893913",
     "exception": false,
     "start_time": "2025-01-22T15:48:13.877598",
     "status": "completed"
    },
    "tags": []
   },
   "outputs": [
    {
     "name": "stdout",
     "output_type": "stream",
     "text": [
      "The total number of data points in the plot is 2554\n"
     ]
    }
   ],
   "source": [
    "print(\"The total number of data points in the plot is\",len(exim.index))\n",
    "#exim.count()\n",
    "#exim.describe"
   ]
  },
  {
   "cell_type": "code",
   "execution_count": 12,
   "id": "c7ecc2f1",
   "metadata": {
    "execution": {
     "iopub.execute_input": "2025-01-22T15:48:13.909583Z",
     "iopub.status.busy": "2025-01-22T15:48:13.909180Z",
     "iopub.status.idle": "2025-01-22T15:48:13.913905Z",
     "shell.execute_reply": "2025-01-22T15:48:13.912918Z"
    },
    "papermill": {
     "duration": 0.015206,
     "end_time": "2025-01-22T15:48:13.916202",
     "exception": false,
     "start_time": "2025-01-22T15:48:13.900996",
     "status": "completed"
    },
    "tags": []
   },
   "outputs": [],
   "source": [
    "#exim.describe"
   ]
  },
  {
   "cell_type": "code",
   "execution_count": 13,
   "id": "eb1cf82d",
   "metadata": {
    "execution": {
     "iopub.execute_input": "2025-01-22T15:48:13.932425Z",
     "iopub.status.busy": "2025-01-22T15:48:13.931993Z",
     "iopub.status.idle": "2025-01-22T15:48:13.936605Z",
     "shell.execute_reply": "2025-01-22T15:48:13.935462Z"
    },
    "papermill": {
     "duration": 0.015368,
     "end_time": "2025-01-22T15:48:13.938840",
     "exception": false,
     "start_time": "2025-01-22T15:48:13.923472",
     "status": "completed"
    },
    "tags": []
   },
   "outputs": [],
   "source": [
    "#exim.info"
   ]
  },
  {
   "cell_type": "code",
   "execution_count": 14,
   "id": "9892cd20",
   "metadata": {
    "execution": {
     "iopub.execute_input": "2025-01-22T15:48:13.954900Z",
     "iopub.status.busy": "2025-01-22T15:48:13.954509Z",
     "iopub.status.idle": "2025-01-22T15:48:13.967951Z",
     "shell.execute_reply": "2025-01-22T15:48:13.966957Z"
    },
    "papermill": {
     "duration": 0.024097,
     "end_time": "2025-01-22T15:48:13.970162",
     "exception": false,
     "start_time": "2025-01-22T15:48:13.946065",
     "status": "completed"
    },
    "tags": []
   },
   "outputs": [
    {
     "data": {
      "text/plain": [
       "HUMAN       8\n",
       "QID         8\n",
       "BM25        8\n",
       "RECENCY     8\n",
       "CONTACT     8\n",
       "ABOUT       8\n",
       "RAWHITS     8\n",
       "URL-LEN     8\n",
       "LINKRANK    8\n",
       "CTR-6       8\n",
       "dtype: int64"
      ]
     },
     "execution_count": 14,
     "metadata": {},
     "output_type": "execute_result"
    }
   ],
   "source": [
    "nrows = exim.loc[(exim['HUMAN'] == 5) & (exim['CTR-6'] == 0.00)]\n",
    "#nrows = exim.loc[(exim['HUMAN'] == 5) & (exim['CTR-6'] == 0.001)]\n",
    "nrows.count()\n",
    "#nrows"
   ]
  },
  {
   "cell_type": "code",
   "execution_count": 15,
   "id": "9c68731b",
   "metadata": {
    "execution": {
     "iopub.execute_input": "2025-01-22T15:48:13.986207Z",
     "iopub.status.busy": "2025-01-22T15:48:13.985790Z",
     "iopub.status.idle": "2025-01-22T15:48:13.991043Z",
     "shell.execute_reply": "2025-01-22T15:48:13.989869Z"
    },
    "papermill": {
     "duration": 0.01606,
     "end_time": "2025-01-22T15:48:13.993459",
     "exception": false,
     "start_time": "2025-01-22T15:48:13.977399",
     "status": "completed"
    },
    "tags": []
   },
   "outputs": [],
   "source": [
    "import seaborn as sns\n",
    "\n",
    "import matplotlib.pyplot as plt\n"
   ]
  },
  {
   "cell_type": "code",
   "execution_count": 16,
   "id": "178d98e2",
   "metadata": {
    "execution": {
     "iopub.execute_input": "2025-01-22T15:48:14.009516Z",
     "iopub.status.busy": "2025-01-22T15:48:14.009050Z",
     "iopub.status.idle": "2025-01-22T15:48:14.379436Z",
     "shell.execute_reply": "2025-01-22T15:48:14.378210Z"
    },
    "papermill": {
     "duration": 0.381322,
     "end_time": "2025-01-22T15:48:14.381885",
     "exception": false,
     "start_time": "2025-01-22T15:48:14.000563",
     "status": "completed"
    },
    "tags": []
   },
   "outputs": [
    {
     "data": {
      "image/png": "[encoded data removed]",
      "text/plain": [
       "<Figure size 1080x720 with 1 Axes>"
      ]
     },
     "metadata": {},
     "output_type": "display_data"
    }
   ],
   "source": [
    "sns.set(rc={'figure.figsize':(15,10)})\n",
    "sns.set(font_scale=2)\n",
    "fig, ax, = plt.subplots()\n",
    "\n",
    "# need to subtract 1 for lineplot to use same range as stripplot\n",
    "# https://stackoverflow.com/questions/53986627/stripplot-and-lineplot-weird-result\n",
    "x2 = (exim['HUMAN']-1)\n",
    "\n",
    "sns_plot = sns.stripplot(x = 'HUMAN', y = 'CTR-6', data = exim, ax =ax).set(title='Strip Plot of CTR versus Human relevance judgements',xlabel='Human relevance judgements',ylabel='CTR %')\n",
    "sns_plot = sns.lineplot(x = x2, y = 'CTR-6', data = exim, ax=ax, color='red', linewidth=1, ci=None)\n",
    "\n"
   ]
  },
  {
   "cell_type": "code",
   "execution_count": 17,
   "id": "5335e123",
   "metadata": {
    "execution": {
     "iopub.execute_input": "2025-01-22T15:48:14.400959Z",
     "iopub.status.busy": "2025-01-22T15:48:14.399735Z",
     "iopub.status.idle": "2025-01-22T15:48:14.500809Z",
     "shell.execute_reply": "2025-01-22T15:48:14.499548Z"
    },
    "papermill": {
     "duration": 0.113262,
     "end_time": "2025-01-22T15:48:14.503518",
     "exception": false,
     "start_time": "2025-01-22T15:48:14.390256",
     "status": "completed"
    },
    "tags": []
   },
   "outputs": [],
   "source": [
    "# save file\n",
    "sns_plot.figure.savefig(\"/kaggle/working/strip-plot-with-line.png\")\n",
    "#!ls -lrt /kaggle/working\n"
   ]
  },
  {
   "cell_type": "code",
   "execution_count": 18,
   "id": "aa2cf4f1",
   "metadata": {
    "execution": {
     "iopub.execute_input": "2025-01-22T15:48:14.521939Z",
     "iopub.status.busy": "2025-01-22T15:48:14.521563Z",
     "iopub.status.idle": "2025-01-22T15:48:14.812758Z",
     "shell.execute_reply": "2025-01-22T15:48:14.811596Z"
    },
    "papermill": {
     "duration": 0.303184,
     "end_time": "2025-01-22T15:48:14.815184",
     "exception": false,
     "start_time": "2025-01-22T15:48:14.512000",
     "status": "completed"
    },
    "tags": []
   },
   "outputs": [
    {
     "data": {
      "text/plain": [
       "[Text(0.5, 1.0, 'Box Plot of CTR versus Human relevance judgements'),\n",
       " Text(0.5, 0, 'Human relevance judgements'),\n",
       " Text(0, 0.5, 'CTR %')]"
      ]
     },
     "execution_count": 18,
     "metadata": {},
     "output_type": "execute_result"
    },
    {
     "data": {
      "image/png": "[encoded data removed]",
      "text/plain": [
       "<Figure size 1080x720 with 1 Axes>"
      ]
     },
     "metadata": {},
     "output_type": "display_data"
    }
   ],
   "source": [
    "sns.boxplot(x = 'HUMAN', y = 'CTR-6', data = exim, whis=4).set(title='Box Plot of CTR versus Human relevance judgements',xlabel='Human relevance judgements',ylabel='CTR %')\n"
   ]
  },
  {
   "cell_type": "code",
   "execution_count": 19,
   "id": "f3edee51",
   "metadata": {
    "execution": {
     "iopub.execute_input": "2025-01-22T15:48:14.835353Z",
     "iopub.status.busy": "2025-01-22T15:48:14.834898Z",
     "iopub.status.idle": "2025-01-22T15:48:25.902518Z",
     "shell.execute_reply": "2025-01-22T15:48:25.901359Z"
    },
    "papermill": {
     "duration": 11.080676,
     "end_time": "2025-01-22T15:48:25.905184",
     "exception": false,
     "start_time": "2025-01-22T15:48:14.824508",
     "status": "completed"
    },
    "tags": []
   },
   "outputs": [
    {
     "name": "stdout",
     "output_type": "stream",
     "text": [
      "Requirement already satisfied: scipy in /opt/conda/lib/python3.7/site-packages (1.7.3)\r\n",
      "Requirement already satisfied: numpy<1.23.0,>=1.16.5 in /opt/conda/lib/python3.7/site-packages (from scipy) (1.21.6)\r\n",
      "\u001b[33mWARNING: Running pip as the 'root' user can result in broken permissions and conflicting behaviour with the system package manager. It is recommended to use a virtual environment instead: https://pip.pypa.io/warnings/venv\u001b[0m\u001b[33m\r\n",
      "\u001b[0m"
     ]
    }
   ],
   "source": [
    "!pip3 install scipy"
   ]
  },
  {
   "cell_type": "code",
   "execution_count": 20,
   "id": "da1d03aa",
   "metadata": {
    "execution": {
     "iopub.execute_input": "2025-01-22T15:48:25.926235Z",
     "iopub.status.busy": "2025-01-22T15:48:25.925396Z",
     "iopub.status.idle": "2025-01-22T15:48:25.931060Z",
     "shell.execute_reply": "2025-01-22T15:48:25.930008Z"
    },
    "papermill": {
     "duration": 0.018712,
     "end_time": "2025-01-22T15:48:25.933291",
     "exception": false,
     "start_time": "2025-01-22T15:48:25.914579",
     "status": "completed"
    },
    "tags": []
   },
   "outputs": [],
   "source": [
    "from scipy.stats import ttest_rel"
   ]
  },
  {
   "cell_type": "code",
   "execution_count": 21,
   "id": "d3c2229a",
   "metadata": {
    "execution": {
     "iopub.execute_input": "2025-01-22T15:48:25.953136Z",
     "iopub.status.busy": "2025-01-22T15:48:25.952754Z",
     "iopub.status.idle": "2025-01-22T15:48:25.957389Z",
     "shell.execute_reply": "2025-01-22T15:48:25.956311Z"
    },
    "papermill": {
     "duration": 0.016918,
     "end_time": "2025-01-22T15:48:25.959497",
     "exception": false,
     "start_time": "2025-01-22T15:48:25.942579",
     "status": "completed"
    },
    "tags": []
   },
   "outputs": [],
   "source": [
    "#exim.rename(columns={'HUMAN':'','CTR-6:''})"
   ]
  },
  {
   "cell_type": "markdown",
   "id": "e5bb6894",
   "metadata": {
    "papermill": {
     "duration": 0.008956,
     "end_time": "2025-01-22T15:48:25.977804",
     "exception": false,
     "start_time": "2025-01-22T15:48:25.968848",
     "status": "completed"
    },
    "tags": []
   },
   "source": [
    "# **Interpreting the Correlation Coefficient**  <a class=\"anchor\"  id=\"Interpreting\"></a>\n",
    "If we wish to label the strength of the association, for absolute values of r, Evans (1996) suggest the following (arbitrary) thresholds can be applied; -\n",
    "* 0-0.19 is regarded as very weak, \n",
    "* 0.2-0.39 as weak, \n",
    "* 0.40-0.59 as moderate, \n",
    "* 0.6-0.79 as strong and \n",
    "* 0.8-1 as very strong correlation\n"
   ]
  },
  {
   "cell_type": "markdown",
   "id": "057185d1",
   "metadata": {
    "papermill": {
     "duration": 0.008976,
     "end_time": "2025-01-22T15:48:25.995996",
     "exception": false,
     "start_time": "2025-01-22T15:48:25.987020",
     "status": "completed"
    },
    "tags": []
   },
   "source": [
    "# **Person versus Spearman**  <a class=\"anchor\"  id=\"Pearson\"></a>\n",
    "Pearson coefficient measures linear trend, \n",
    "Spearman coeffiecient measures monotonic trend"
   ]
  },
  {
   "cell_type": "code",
   "execution_count": 22,
   "id": "34c76628",
   "metadata": {
    "execution": {
     "iopub.execute_input": "2025-01-22T15:48:26.016669Z",
     "iopub.status.busy": "2025-01-22T15:48:26.015564Z",
     "iopub.status.idle": "2025-01-22T15:48:26.021421Z",
     "shell.execute_reply": "2025-01-22T15:48:26.020388Z"
    },
    "papermill": {
     "duration": 0.018311,
     "end_time": "2025-01-22T15:48:26.023546",
     "exception": false,
     "start_time": "2025-01-22T15:48:26.005235",
     "status": "completed"
    },
    "tags": []
   },
   "outputs": [],
   "source": [
    "\n",
    "# calculate the Pearson's correlation between two variables\n",
    "from numpy.random import randn\n",
    "from numpy.random import seed\n",
    "from scipy.stats import pearsonr\n",
    "from scipy.stats import spearmanr\n",
    "# seed random number generator\n",
    "seed(1)\n",
    "# prepare data"
   ]
  },
  {
   "cell_type": "code",
   "execution_count": 23,
   "id": "8ae98874",
   "metadata": {
    "execution": {
     "iopub.execute_input": "2025-01-22T15:48:26.043824Z",
     "iopub.status.busy": "2025-01-22T15:48:26.042935Z",
     "iopub.status.idle": "2025-01-22T15:48:26.052196Z",
     "shell.execute_reply": "2025-01-22T15:48:26.051037Z"
    },
    "papermill": {
     "duration": 0.021796,
     "end_time": "2025-01-22T15:48:26.054407",
     "exception": false,
     "start_time": "2025-01-22T15:48:26.032611",
     "status": "completed"
    },
    "tags": []
   },
   "outputs": [
    {
     "name": "stdout",
     "output_type": "stream",
     "text": [
      "Pearson's correlation:  human v click-through-rate: 0.586\n"
     ]
    }
   ],
   "source": [
    "data1 = exim['HUMAN']\n",
    "data2 = exim['CTR-6']\n",
    "\n",
    "data1 = data1.dropna()\n",
    "data2 = data2.dropna()\n",
    "\n",
    "# calculate Pearson's correlation\n",
    "corr, _ = pearsonr(data1, data2)\n",
    "print('Pearson\\'s correlation:  human v click-through-rate: %.3f' % corr)"
   ]
  },
  {
   "cell_type": "code",
   "execution_count": 24,
   "id": "59240445",
   "metadata": {
    "execution": {
     "iopub.execute_input": "2025-01-22T15:48:26.074319Z",
     "iopub.status.busy": "2025-01-22T15:48:26.073896Z",
     "iopub.status.idle": "2025-01-22T15:48:26.085062Z",
     "shell.execute_reply": "2025-01-22T15:48:26.084057Z"
    },
    "papermill": {
     "duration": 0.02354,
     "end_time": "2025-01-22T15:48:26.087074",
     "exception": false,
     "start_time": "2025-01-22T15:48:26.063534",
     "status": "completed"
    },
    "tags": []
   },
   "outputs": [
    {
     "name": "stdout",
     "output_type": "stream",
     "text": [
      "Spearman's correlation:  human v click-through-rate: 0.437\n"
     ]
    }
   ],
   "source": [
    "data1 = exim['HUMAN']\n",
    "data2 = exim['CTR-6']\n",
    "\n",
    "data1 = data1.dropna()\n",
    "data2 = data2.dropna()\n",
    "\n",
    "from scipy.stats import spearmanr\n",
    "corr, _ = spearmanr(data1, data2)\n",
    "print('Spearman\\'s correlation:  human v click-through-rate: %.3f' % corr)"
   ]
  },
  {
   "cell_type": "code",
   "execution_count": 25,
   "id": "240b3448",
   "metadata": {
    "execution": {
     "iopub.execute_input": "2025-01-22T15:48:26.107162Z",
     "iopub.status.busy": "2025-01-22T15:48:26.106786Z",
     "iopub.status.idle": "2025-01-22T15:48:26.116004Z",
     "shell.execute_reply": "2025-01-22T15:48:26.114772Z"
    },
    "papermill": {
     "duration": 0.021785,
     "end_time": "2025-01-22T15:48:26.118151",
     "exception": false,
     "start_time": "2025-01-22T15:48:26.096366",
     "status": "completed"
    },
    "tags": []
   },
   "outputs": [
    {
     "name": "stdout",
     "output_type": "stream",
     "text": [
      "Spearmans correlation coefficient: 0.437\n",
      "p-value 1.6350135746535322e-119\n",
      "Samples are correlated (reject H0) p=0.000\n"
     ]
    }
   ],
   "source": [
    "# calculate spearman's correlation\n",
    "coef, p = spearmanr(data1, data2)\n",
    "print('Spearmans correlation coefficient: %.3f' % coef)\n",
    "print ('p-value',p)\n",
    "# interpret the significance\n",
    "alpha = 0.05\n",
    "if p > alpha:\n",
    "\tprint('Samples are uncorrelated (fail to reject H0) p=%.3f' % p)\n",
    "else:\n",
    "\tprint('Samples are correlated (reject H0) p=%.3f' % p)"
   ]
  },
  {
   "cell_type": "markdown",
   "id": "6010e166",
   "metadata": {
    "papermill": {
     "duration": 0.008981,
     "end_time": "2025-01-22T15:48:26.136649",
     "exception": false,
     "start_time": "2025-01-22T15:48:26.127668",
     "status": "completed"
    },
    "tags": []
   },
   "source": [
    "# **Statistical Power**  <a class=\"anchor\"  id=\"Power\"></a>"
   ]
  },
  {
   "cell_type": "code",
   "execution_count": 26,
   "id": "fb08b5c7",
   "metadata": {
    "execution": {
     "iopub.execute_input": "2025-01-22T15:48:26.156798Z",
     "iopub.status.busy": "2025-01-22T15:48:26.156428Z",
     "iopub.status.idle": "2025-01-22T15:48:26.181522Z",
     "shell.execute_reply": "2025-01-22T15:48:26.180152Z"
    },
    "papermill": {
     "duration": 0.037956,
     "end_time": "2025-01-22T15:48:26.183765",
     "exception": false,
     "start_time": "2025-01-22T15:48:26.145809",
     "status": "completed"
    },
    "tags": []
   },
   "outputs": [
    {
     "name": "stdout",
     "output_type": "stream",
     "text": [
      "Required sample size: 63.765611775409525\n"
     ]
    }
   ],
   "source": [
    "from statsmodels.stats.power import TTestIndPower\n",
    "\n",
    "# Parameters\n",
    "effect_size = 0.5  # Cohen's d\n",
    "alpha = 0.05       # Significance level\n",
    "power = 0.8        # Desired power\n",
    "\n",
    "# Initialize power analysis\n",
    "analysis = TTestIndPower()\n",
    "\n",
    "# Calculate required sample size\n",
    "sample_size = analysis.solve_power(effect_size=effect_size, alpha=alpha, power=power, alternative='two-sided')\n",
    "print(f\"Required sample size: {sample_size}\")"
   ]
  }
 ],
 "metadata": {
  "kaggle": {
   "accelerator": "none",
   "dataSources": [
    {
     "datasetId": 2326986,
     "sourceId": 4128443,
     "sourceType": "datasetVersion"
    },
    {
     "datasetId": 2366553,
     "sourceId": 5848272,
     "sourceType": "datasetVersion"
    }
   ],
   "dockerImageVersionId": 30203,
   "isGpuEnabled": false,
   "isInternetEnabled": true,
   "language": "python",
   "sourceType": "notebook"
  },
  "kernelspec": {
   "display_name": "Python 3",
   "language": "python",
   "name": "python3"
  },
  "language_info": {
   "codemirror_mode": {
    "name": "ipython",
    "version": 3
   },
   "file_extension": ".py",
   "mimetype": "text/x-python",
   "name": "python",
   "nbconvert_exporter": "python",
   "pygments_lexer": "ipython3",
   "version": "3.7.12"
  },
  "papermill": {
   "default_parameters": {},
   "duration": 23.887946,
   "end_time": "2025-01-22T15:48:27.014880",
   "environment_variables": {},
   "exception": null,
   "input_path": "__notebook__.ipynb",
   "output_path": "__notebook__.ipynb",
   "parameters": {},
   "start_time": "2025-01-22T15:48:03.126934",
   "version": "2.3.4"
  }
 },
 "nbformat": 4,
 "nbformat_minor": 5
}
