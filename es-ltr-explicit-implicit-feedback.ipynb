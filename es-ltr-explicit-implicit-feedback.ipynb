{
 "cells": [
  {
   "cell_type": "code",
   "execution_count": 1,
   "id": "9c949820",
   "metadata": {
    "_cell_guid": "b1076dfc-b9ad-4769-8c92-a6c4dae69d19",
    "_uuid": "8f2839f25d086af736a60e9eeb907d3b93b6e0e5",
    "execution": {
     "iopub.execute_input": "2023-09-03T10:36:48.550008Z",
     "iopub.status.busy": "2023-09-03T10:36:48.549451Z",
     "iopub.status.idle": "2023-09-03T10:36:48.590642Z",
     "shell.execute_reply": "2023-09-03T10:36:48.588714Z"
    },
    "papermill": {
     "duration": 0.059644,
     "end_time": "2023-09-03T10:36:48.594442",
     "exception": false,
     "start_time": "2023-09-03T10:36:48.534798",
     "status": "completed"
    },
    "tags": []
   },
   "outputs": [
    {
     "name": "stdout",
     "output_type": "stream",
     "text": [
      "/kaggle/input/explicitimplicitv5/explicit-implicit-v5.csv\n",
      "/kaggle/input/explicitimplicitv5/explicit-implicit-v6.csv\n",
      "/kaggle/input/entrp-srch/ENTRP-SRCH-v14.txt\n",
      "/kaggle/input/entrp-srch/dataset-with-urls.txt\n"
     ]
    }
   ],
   "source": [
    "\n",
    "import numpy as np # linear algebra\n",
    "import pandas as pd # data processing, CSV file I/O (e.g. pd.read_csv)\n",
    "\n",
    "\n",
    "import os\n",
    "for dirname, _, filenames in os.walk('/kaggle/input'):\n",
    "    for filename in filenames:\n",
    "        print(os.path.join(dirname, filename))\n",
    "\n"
   ]
  },
  {
   "cell_type": "markdown",
   "id": "287c37be",
   "metadata": {
    "papermill": {
     "duration": 0.01061,
     "end_time": "2023-09-03T10:36:48.616303",
     "exception": false,
     "start_time": "2023-09-03T10:36:48.605693",
     "status": "completed"
    },
    "tags": []
   },
   "source": [
    "**This script performs a correlation between two implicit (click-though data) and explicit (human relevance judgement) feedback for an Enterprise Search (ES) service that uses Learning to Rank (LTR)**"
   ]
  },
  {
   "cell_type": "code",
   "execution_count": 2,
   "id": "e9a2f16c",
   "metadata": {
    "execution": {
     "iopub.execute_input": "2023-09-03T10:36:48.639962Z",
     "iopub.status.busy": "2023-09-03T10:36:48.639459Z",
     "iopub.status.idle": "2023-09-03T10:36:48.646006Z",
     "shell.execute_reply": "2023-09-03T10:36:48.644385Z"
    },
    "papermill": {
     "duration": 0.021742,
     "end_time": "2023-09-03T10:36:48.648698",
     "exception": false,
     "start_time": "2023-09-03T10:36:48.626956",
     "status": "completed"
    },
    "tags": []
   },
   "outputs": [],
   "source": [
    "#!pip3 install -U datapane >/dev/null 2>&1"
   ]
  },
  {
   "cell_type": "code",
   "execution_count": 3,
   "id": "b07298fb",
   "metadata": {
    "execution": {
     "iopub.execute_input": "2023-09-03T10:36:48.671771Z",
     "iopub.status.busy": "2023-09-03T10:36:48.671348Z",
     "iopub.status.idle": "2023-09-03T10:36:48.677818Z",
     "shell.execute_reply": "2023-09-03T10:36:48.675323Z"
    },
    "papermill": {
     "duration": 0.02252,
     "end_time": "2023-09-03T10:36:48.681675",
     "exception": false,
     "start_time": "2023-09-03T10:36:48.659155",
     "status": "completed"
    },
    "tags": []
   },
   "outputs": [],
   "source": [
    "#!pip3 install -U jinja2"
   ]
  },
  {
   "cell_type": "code",
   "execution_count": 4,
   "id": "24c28ee0",
   "metadata": {
    "execution": {
     "iopub.execute_input": "2023-09-03T10:36:48.705016Z",
     "iopub.status.busy": "2023-09-03T10:36:48.704569Z",
     "iopub.status.idle": "2023-09-03T10:36:50.316377Z",
     "shell.execute_reply": "2023-09-03T10:36:50.314656Z"
    },
    "papermill": {
     "duration": 1.627549,
     "end_time": "2023-09-03T10:36:50.320052",
     "exception": false,
     "start_time": "2023-09-03T10:36:48.692503",
     "status": "completed"
    },
    "tags": []
   },
   "outputs": [],
   "source": [
    "import seaborn as sns\n",
    "import altair as alt \n",
    "import pandas as pd\n",
    "\n",
    "\n",
    "#exim=pd.read_csv(\"/kaggle/input/explicitimplicitv5/explicit-implicit-v6.csv\")\n",
    "\n",
    "exim=pd.read_csv(\"/kaggle/input/entrp-srch/ENTRP-SRCH-v14.txt\",sep='\\s+', header=None, names=[\"HUMAN\", \"QID\", \"BM25\", \"RECENCY\", \"CONTACT\", \"ABOUT\", \"RAWHITS\",\"URL-LEN\",\"LINKRANK\",\"CTR-6\"])"
   ]
  },
  {
   "cell_type": "code",
   "execution_count": 5,
   "id": "c463856b",
   "metadata": {
    "execution": {
     "iopub.execute_input": "2023-09-03T10:36:50.345705Z",
     "iopub.status.busy": "2023-09-03T10:36:50.344717Z",
     "iopub.status.idle": "2023-09-03T10:36:50.362108Z",
     "shell.execute_reply": "2023-09-03T10:36:50.360510Z"
    },
    "papermill": {
     "duration": 0.034003,
     "end_time": "2023-09-03T10:36:50.365405",
     "exception": false,
     "start_time": "2023-09-03T10:36:50.331402",
     "status": "completed"
    },
    "tags": []
   },
   "outputs": [],
   "source": [
    "exim['CTR-6'] = exim['CTR-6'].str[2:]"
   ]
  },
  {
   "cell_type": "code",
   "execution_count": 6,
   "id": "ff826a44",
   "metadata": {
    "execution": {
     "iopub.execute_input": "2023-09-03T10:36:50.388912Z",
     "iopub.status.busy": "2023-09-03T10:36:50.388389Z",
     "iopub.status.idle": "2023-09-03T10:36:50.405762Z",
     "shell.execute_reply": "2023-09-03T10:36:50.404514Z"
    },
    "papermill": {
     "duration": 0.032839,
     "end_time": "2023-09-03T10:36:50.408634",
     "exception": false,
     "start_time": "2023-09-03T10:36:50.375795",
     "status": "completed"
    },
    "tags": []
   },
   "outputs": [],
   "source": [
    "#exim[\"HUMAN\"] = pd.to_numeric(exim[\"HUMAN\"])\n",
    "# convert just columns \"a\" and \"b\"\n",
    "exim[[\"HUMAN\", \"CTR-6\"]] = exim[[\"HUMAN\", \"CTR-6\"]].apply(pd.to_numeric)\n"
   ]
  },
  {
   "cell_type": "code",
   "execution_count": 7,
   "id": "d2dc4210",
   "metadata": {
    "execution": {
     "iopub.execute_input": "2023-09-03T10:36:50.431679Z",
     "iopub.status.busy": "2023-09-03T10:36:50.430635Z",
     "iopub.status.idle": "2023-09-03T10:36:50.437316Z",
     "shell.execute_reply": "2023-09-03T10:36:50.435686Z"
    },
    "papermill": {
     "duration": 0.021265,
     "end_time": "2023-09-03T10:36:50.440114",
     "exception": false,
     "start_time": "2023-09-03T10:36:50.418849",
     "status": "completed"
    },
    "tags": []
   },
   "outputs": [],
   "source": [
    "#exim = exim.dropna()\n"
   ]
  },
  {
   "cell_type": "code",
   "execution_count": 8,
   "id": "849a184e",
   "metadata": {
    "execution": {
     "iopub.execute_input": "2023-09-03T10:36:50.464356Z",
     "iopub.status.busy": "2023-09-03T10:36:50.462887Z",
     "iopub.status.idle": "2023-09-03T10:36:50.498769Z",
     "shell.execute_reply": "2023-09-03T10:36:50.497432Z"
    },
    "papermill": {
     "duration": 0.051432,
     "end_time": "2023-09-03T10:36:50.502446",
     "exception": false,
     "start_time": "2023-09-03T10:36:50.451014",
     "status": "completed"
    },
    "tags": []
   },
   "outputs": [
    {
     "data": {
      "text/html": [
       "<div>\n",
       "<style scoped>\n",
       "    .dataframe tbody tr th:only-of-type {\n",
       "        vertical-align: middle;\n",
       "    }\n",
       "\n",
       "    .dataframe tbody tr th {\n",
       "        vertical-align: top;\n",
       "    }\n",
       "\n",
       "    .dataframe thead th {\n",
       "        text-align: right;\n",
       "    }\n",
       "</style>\n",
       "<table border=\"1\" class=\"dataframe\">\n",
       "  <thead>\n",
       "    <tr style=\"text-align: right;\">\n",
       "      <th></th>\n",
       "      <th>HUMAN</th>\n",
       "      <th>QID</th>\n",
       "      <th>BM25</th>\n",
       "      <th>RECENCY</th>\n",
       "      <th>CONTACT</th>\n",
       "      <th>ABOUT</th>\n",
       "      <th>RAWHITS</th>\n",
       "      <th>URL-LEN</th>\n",
       "      <th>LINKRANK</th>\n",
       "      <th>CTR-6</th>\n",
       "    </tr>\n",
       "  </thead>\n",
       "  <tbody>\n",
       "    <tr>\n",
       "      <th>0</th>\n",
       "      <td>5</td>\n",
       "      <td>qid:1</td>\n",
       "      <td>1:7.901979</td>\n",
       "      <td>2:0.17024133</td>\n",
       "      <td>3:0.0</td>\n",
       "      <td>4:0.0</td>\n",
       "      <td>5:34.0</td>\n",
       "      <td>6:6.0</td>\n",
       "      <td>7:1.080049</td>\n",
       "      <td>0.190</td>\n",
       "    </tr>\n",
       "    <tr>\n",
       "      <th>1</th>\n",
       "      <td>3</td>\n",
       "      <td>qid:1</td>\n",
       "      <td>1:7.886458</td>\n",
       "      <td>2:0.24574098</td>\n",
       "      <td>3:0.0</td>\n",
       "      <td>4:0.0</td>\n",
       "      <td>5:22.0</td>\n",
       "      <td>6:8.0</td>\n",
       "      <td>7:0.42990547</td>\n",
       "      <td>0.040</td>\n",
       "    </tr>\n",
       "    <tr>\n",
       "      <th>2</th>\n",
       "      <td>4</td>\n",
       "      <td>qid:1</td>\n",
       "      <td>1:6.097526</td>\n",
       "      <td>2:0.30741006</td>\n",
       "      <td>3:0.0</td>\n",
       "      <td>4:0.0</td>\n",
       "      <td>5:22.0</td>\n",
       "      <td>6:7.0</td>\n",
       "      <td>7:0.4299054</td>\n",
       "      <td>0.030</td>\n",
       "    </tr>\n",
       "    <tr>\n",
       "      <th>3</th>\n",
       "      <td>5</td>\n",
       "      <td>qid:1</td>\n",
       "      <td>1:8.518949</td>\n",
       "      <td>2:0.30792695</td>\n",
       "      <td>3:0.0</td>\n",
       "      <td>4:1.0</td>\n",
       "      <td>5:4.0</td>\n",
       "      <td>6:7.0</td>\n",
       "      <td>7:0.42990547</td>\n",
       "      <td>0.090</td>\n",
       "    </tr>\n",
       "    <tr>\n",
       "      <th>4</th>\n",
       "      <td>3</td>\n",
       "      <td>qid:1</td>\n",
       "      <td>1:4.9042683</td>\n",
       "      <td>2:0.31480822</td>\n",
       "      <td>3:0.0</td>\n",
       "      <td>4:0.0</td>\n",
       "      <td>5:22.0</td>\n",
       "      <td>6:9.0</td>\n",
       "      <td>7:0.42990544</td>\n",
       "      <td>0.000</td>\n",
       "    </tr>\n",
       "    <tr>\n",
       "      <th>5</th>\n",
       "      <td>5</td>\n",
       "      <td>qid:1</td>\n",
       "      <td>1:8.338974</td>\n",
       "      <td>2:0.3061254</td>\n",
       "      <td>3:1.0</td>\n",
       "      <td>4:0.0</td>\n",
       "      <td>5:1.0</td>\n",
       "      <td>6:7.0</td>\n",
       "      <td>7:0.42990547</td>\n",
       "      <td>0.040</td>\n",
       "    </tr>\n",
       "    <tr>\n",
       "      <th>6</th>\n",
       "      <td>5</td>\n",
       "      <td>qid:1</td>\n",
       "      <td>1:7.886458</td>\n",
       "      <td>2:0.13792998</td>\n",
       "      <td>3:0.0</td>\n",
       "      <td>4:0.0</td>\n",
       "      <td>5:4.0</td>\n",
       "      <td>6:7.0</td>\n",
       "      <td>7:0.17706141</td>\n",
       "      <td>0.170</td>\n",
       "    </tr>\n",
       "    <tr>\n",
       "      <th>7</th>\n",
       "      <td>3</td>\n",
       "      <td>qid:1</td>\n",
       "      <td>1:6.806793</td>\n",
       "      <td>2:0.3068949</td>\n",
       "      <td>3:0.0</td>\n",
       "      <td>4:0.0</td>\n",
       "      <td>5:8.0</td>\n",
       "      <td>6:7.0</td>\n",
       "      <td>7:0.4299054</td>\n",
       "      <td>0.001</td>\n",
       "    </tr>\n",
       "    <tr>\n",
       "      <th>8</th>\n",
       "      <td>3</td>\n",
       "      <td>qid:1</td>\n",
       "      <td>1:7.7742815</td>\n",
       "      <td>2:0.20971979</td>\n",
       "      <td>3:0.0</td>\n",
       "      <td>4:0.0</td>\n",
       "      <td>5:6.0</td>\n",
       "      <td>6:8.0</td>\n",
       "      <td>7:0.42990547</td>\n",
       "      <td>0.040</td>\n",
       "    </tr>\n",
       "    <tr>\n",
       "      <th>9</th>\n",
       "      <td>4</td>\n",
       "      <td>qid:1</td>\n",
       "      <td>1:6.4255433</td>\n",
       "      <td>2:0.24574098</td>\n",
       "      <td>3:0.0</td>\n",
       "      <td>4:0.0</td>\n",
       "      <td>5:10.0</td>\n",
       "      <td>6:8.0</td>\n",
       "      <td>7:0.42990547</td>\n",
       "      <td>0.060</td>\n",
       "    </tr>\n",
       "    <tr>\n",
       "      <th>10</th>\n",
       "      <td>4</td>\n",
       "      <td>qid:1</td>\n",
       "      <td>1:7.8942113</td>\n",
       "      <td>2:0.18163878</td>\n",
       "      <td>3:0.0</td>\n",
       "      <td>4:0.0</td>\n",
       "      <td>5:2.0</td>\n",
       "      <td>6:7.0</td>\n",
       "      <td>7:0.42990547</td>\n",
       "      <td>0.010</td>\n",
       "    </tr>\n",
       "    <tr>\n",
       "      <th>11</th>\n",
       "      <td>4</td>\n",
       "      <td>qid:1</td>\n",
       "      <td>1:7.8942113</td>\n",
       "      <td>2:0.13792998</td>\n",
       "      <td>3:0.0</td>\n",
       "      <td>4:0.0</td>\n",
       "      <td>5:2.0</td>\n",
       "      <td>6:7.0</td>\n",
       "      <td>7:0.42990553</td>\n",
       "      <td>0.010</td>\n",
       "    </tr>\n",
       "    <tr>\n",
       "      <th>12</th>\n",
       "      <td>4</td>\n",
       "      <td>qid:1</td>\n",
       "      <td>1:5.419501</td>\n",
       "      <td>2:0.24574098</td>\n",
       "      <td>3:0.0</td>\n",
       "      <td>4:0.0</td>\n",
       "      <td>5:12.0</td>\n",
       "      <td>6:8.0</td>\n",
       "      <td>7:0.42990544</td>\n",
       "      <td>0.030</td>\n",
       "    </tr>\n",
       "    <tr>\n",
       "      <th>13</th>\n",
       "      <td>4</td>\n",
       "      <td>qid:1</td>\n",
       "      <td>1:7.347151</td>\n",
       "      <td>2:0.26961926</td>\n",
       "      <td>3:0.0</td>\n",
       "      <td>4:0.0</td>\n",
       "      <td>5:4.0</td>\n",
       "      <td>6:8.0</td>\n",
       "      <td>7:0.17718421</td>\n",
       "      <td>0.010</td>\n",
       "    </tr>\n",
       "    <tr>\n",
       "      <th>14</th>\n",
       "      <td>4</td>\n",
       "      <td>qid:1</td>\n",
       "      <td>1:7.347151</td>\n",
       "      <td>2:0.2692229</td>\n",
       "      <td>3:0.0</td>\n",
       "      <td>4:0.0</td>\n",
       "      <td>5:1.0</td>\n",
       "      <td>6:7.0</td>\n",
       "      <td>7:0.42990547</td>\n",
       "      <td>0.010</td>\n",
       "    </tr>\n",
       "  </tbody>\n",
       "</table>\n",
       "</div>"
      ],
      "text/plain": [
       "    HUMAN    QID         BM25       RECENCY CONTACT  ABOUT RAWHITS URL-LEN  \\\n",
       "0       5  qid:1   1:7.901979  2:0.17024133   3:0.0  4:0.0  5:34.0   6:6.0   \n",
       "1       3  qid:1   1:7.886458  2:0.24574098   3:0.0  4:0.0  5:22.0   6:8.0   \n",
       "2       4  qid:1   1:6.097526  2:0.30741006   3:0.0  4:0.0  5:22.0   6:7.0   \n",
       "3       5  qid:1   1:8.518949  2:0.30792695   3:0.0  4:1.0   5:4.0   6:7.0   \n",
       "4       3  qid:1  1:4.9042683  2:0.31480822   3:0.0  4:0.0  5:22.0   6:9.0   \n",
       "5       5  qid:1   1:8.338974   2:0.3061254   3:1.0  4:0.0   5:1.0   6:7.0   \n",
       "6       5  qid:1   1:7.886458  2:0.13792998   3:0.0  4:0.0   5:4.0   6:7.0   \n",
       "7       3  qid:1   1:6.806793   2:0.3068949   3:0.0  4:0.0   5:8.0   6:7.0   \n",
       "8       3  qid:1  1:7.7742815  2:0.20971979   3:0.0  4:0.0   5:6.0   6:8.0   \n",
       "9       4  qid:1  1:6.4255433  2:0.24574098   3:0.0  4:0.0  5:10.0   6:8.0   \n",
       "10      4  qid:1  1:7.8942113  2:0.18163878   3:0.0  4:0.0   5:2.0   6:7.0   \n",
       "11      4  qid:1  1:7.8942113  2:0.13792998   3:0.0  4:0.0   5:2.0   6:7.0   \n",
       "12      4  qid:1   1:5.419501  2:0.24574098   3:0.0  4:0.0  5:12.0   6:8.0   \n",
       "13      4  qid:1   1:7.347151  2:0.26961926   3:0.0  4:0.0   5:4.0   6:8.0   \n",
       "14      4  qid:1   1:7.347151   2:0.2692229   3:0.0  4:0.0   5:1.0   6:7.0   \n",
       "\n",
       "        LINKRANK  CTR-6  \n",
       "0     7:1.080049  0.190  \n",
       "1   7:0.42990547  0.040  \n",
       "2    7:0.4299054  0.030  \n",
       "3   7:0.42990547  0.090  \n",
       "4   7:0.42990544  0.000  \n",
       "5   7:0.42990547  0.040  \n",
       "6   7:0.17706141  0.170  \n",
       "7    7:0.4299054  0.001  \n",
       "8   7:0.42990547  0.040  \n",
       "9   7:0.42990547  0.060  \n",
       "10  7:0.42990547  0.010  \n",
       "11  7:0.42990553  0.010  \n",
       "12  7:0.42990544  0.030  \n",
       "13  7:0.17718421  0.010  \n",
       "14  7:0.42990547  0.010  "
      ]
     },
     "execution_count": 8,
     "metadata": {},
     "output_type": "execute_result"
    }
   ],
   "source": [
    "exim.head(15)"
   ]
  },
  {
   "cell_type": "code",
   "execution_count": 9,
   "id": "cdb12419",
   "metadata": {
    "execution": {
     "iopub.execute_input": "2023-09-03T10:36:50.527247Z",
     "iopub.status.busy": "2023-09-03T10:36:50.526773Z",
     "iopub.status.idle": "2023-09-03T10:36:50.543056Z",
     "shell.execute_reply": "2023-09-03T10:36:50.541791Z"
    },
    "papermill": {
     "duration": 0.03231,
     "end_time": "2023-09-03T10:36:50.545961",
     "exception": false,
     "start_time": "2023-09-03T10:36:50.513651",
     "status": "completed"
    },
    "tags": []
   },
   "outputs": [
    {
     "data": {
      "text/plain": [
       "HUMAN       2554\n",
       "QID         2554\n",
       "BM25        2554\n",
       "RECENCY     2554\n",
       "CONTACT     2554\n",
       "ABOUT       2554\n",
       "RAWHITS     2554\n",
       "URL-LEN     2554\n",
       "LINKRANK    2554\n",
       "CTR-6       2554\n",
       "dtype: int64"
      ]
     },
     "execution_count": 9,
     "metadata": {},
     "output_type": "execute_result"
    }
   ],
   "source": [
    "exim.count()"
   ]
  },
  {
   "cell_type": "code",
   "execution_count": 10,
   "id": "a7b16e67",
   "metadata": {
    "execution": {
     "iopub.execute_input": "2023-09-03T10:36:50.570954Z",
     "iopub.status.busy": "2023-09-03T10:36:50.570457Z",
     "iopub.status.idle": "2023-09-03T10:36:50.576602Z",
     "shell.execute_reply": "2023-09-03T10:36:50.574992Z"
    },
    "papermill": {
     "duration": 0.022481,
     "end_time": "2023-09-03T10:36:50.579870",
     "exception": false,
     "start_time": "2023-09-03T10:36:50.557389",
     "status": "completed"
    },
    "tags": []
   },
   "outputs": [],
   "source": [
    "#  USE CTR AS BASELINE\n",
    "# eclude those documents that have no (NULL) CTR score when using ENTRP-SRCH dataset\n",
    "#exim = exim[exim[\"CTR-6\"] != 0.00]   "
   ]
  },
  {
   "cell_type": "code",
   "execution_count": 11,
   "id": "88d8b829",
   "metadata": {
    "execution": {
     "iopub.execute_input": "2023-09-03T10:36:50.605928Z",
     "iopub.status.busy": "2023-09-03T10:36:50.604403Z",
     "iopub.status.idle": "2023-09-03T10:36:50.611940Z",
     "shell.execute_reply": "2023-09-03T10:36:50.610689Z"
    },
    "papermill": {
     "duration": 0.024054,
     "end_time": "2023-09-03T10:36:50.615474",
     "exception": false,
     "start_time": "2023-09-03T10:36:50.591420",
     "status": "completed"
    },
    "tags": []
   },
   "outputs": [
    {
     "name": "stdout",
     "output_type": "stream",
     "text": [
      "The total number of data points in the plot is 2554\n"
     ]
    }
   ],
   "source": [
    "print(\"The total number of data points in the plot is\",len(exim.index))\n",
    "#exim.count()\n",
    "#exim.describe"
   ]
  },
  {
   "cell_type": "code",
   "execution_count": 12,
   "id": "485efa6a",
   "metadata": {
    "execution": {
     "iopub.execute_input": "2023-09-03T10:36:50.640599Z",
     "iopub.status.busy": "2023-09-03T10:36:50.640108Z",
     "iopub.status.idle": "2023-09-03T10:36:50.645343Z",
     "shell.execute_reply": "2023-09-03T10:36:50.643795Z"
    },
    "papermill": {
     "duration": 0.021272,
     "end_time": "2023-09-03T10:36:50.648208",
     "exception": false,
     "start_time": "2023-09-03T10:36:50.626936",
     "status": "completed"
    },
    "tags": []
   },
   "outputs": [],
   "source": [
    "#exim.describe"
   ]
  },
  {
   "cell_type": "code",
   "execution_count": 13,
   "id": "51b14131",
   "metadata": {
    "execution": {
     "iopub.execute_input": "2023-09-03T10:36:50.673042Z",
     "iopub.status.busy": "2023-09-03T10:36:50.672526Z",
     "iopub.status.idle": "2023-09-03T10:36:50.678350Z",
     "shell.execute_reply": "2023-09-03T10:36:50.676707Z"
    },
    "papermill": {
     "duration": 0.02176,
     "end_time": "2023-09-03T10:36:50.681214",
     "exception": false,
     "start_time": "2023-09-03T10:36:50.659454",
     "status": "completed"
    },
    "tags": []
   },
   "outputs": [],
   "source": [
    "#exim.info"
   ]
  },
  {
   "cell_type": "code",
   "execution_count": 14,
   "id": "a435c49a",
   "metadata": {
    "execution": {
     "iopub.execute_input": "2023-09-03T10:36:50.707432Z",
     "iopub.status.busy": "2023-09-03T10:36:50.706878Z",
     "iopub.status.idle": "2023-09-03T10:36:50.724761Z",
     "shell.execute_reply": "2023-09-03T10:36:50.723471Z"
    },
    "papermill": {
     "duration": 0.034016,
     "end_time": "2023-09-03T10:36:50.727770",
     "exception": false,
     "start_time": "2023-09-03T10:36:50.693754",
     "status": "completed"
    },
    "tags": []
   },
   "outputs": [
    {
     "data": {
      "text/plain": [
       "HUMAN       8\n",
       "QID         8\n",
       "BM25        8\n",
       "RECENCY     8\n",
       "CONTACT     8\n",
       "ABOUT       8\n",
       "RAWHITS     8\n",
       "URL-LEN     8\n",
       "LINKRANK    8\n",
       "CTR-6       8\n",
       "dtype: int64"
      ]
     },
     "execution_count": 14,
     "metadata": {},
     "output_type": "execute_result"
    }
   ],
   "source": [
    "nrows = exim.loc[(exim['HUMAN'] == 5) & (exim['CTR-6'] == 0.00)]\n",
    "#nrows = exim.loc[(exim['HUMAN'] == 5) & (exim['CTR-6'] == 0.001)]\n",
    "nrows.count()\n",
    "#nrows"
   ]
  },
  {
   "cell_type": "code",
   "execution_count": 15,
   "id": "9c8c631d",
   "metadata": {
    "execution": {
     "iopub.execute_input": "2023-09-03T10:36:50.753134Z",
     "iopub.status.busy": "2023-09-03T10:36:50.752603Z",
     "iopub.status.idle": "2023-09-03T10:36:50.759577Z",
     "shell.execute_reply": "2023-09-03T10:36:50.757790Z"
    },
    "papermill": {
     "duration": 0.022772,
     "end_time": "2023-09-03T10:36:50.762148",
     "exception": false,
     "start_time": "2023-09-03T10:36:50.739376",
     "status": "completed"
    },
    "tags": []
   },
   "outputs": [],
   "source": [
    "import seaborn as sns\n",
    "\n",
    "import matplotlib.pyplot as plt\n"
   ]
  },
  {
   "cell_type": "code",
   "execution_count": 16,
   "id": "49879f2b",
   "metadata": {
    "execution": {
     "iopub.execute_input": "2023-09-03T10:36:50.787118Z",
     "iopub.status.busy": "2023-09-03T10:36:50.786615Z",
     "iopub.status.idle": "2023-09-03T10:36:51.217600Z",
     "shell.execute_reply": "2023-09-03T10:36:51.216501Z"
    },
    "papermill": {
     "duration": 0.447213,
     "end_time": "2023-09-03T10:36:51.220633",
     "exception": false,
     "start_time": "2023-09-03T10:36:50.773420",
     "status": "completed"
    },
    "tags": []
   },
   "outputs": [
    {
     "data": {
      "image/png": "[encoded data removed]",
      "text/plain": [
       "<Figure size 1080x720 with 1 Axes>"
      ]
     },
     "metadata": {},
     "output_type": "display_data"
    }
   ],
   "source": [
    "sns.set(rc={'figure.figsize':(15,10)})\n",
    "sns.set(font_scale=2)\n",
    "fig, ax, = plt.subplots()\n",
    "\n",
    "# need to subtract 1 for lineplot to use same range as stripplot\n",
    "# https://stackoverflow.com/questions/53986627/stripplot-and-lineplot-weird-result\n",
    "x2 = (exim['HUMAN']-1)\n",
    "\n",
    "sns_plot = sns.stripplot(x = 'HUMAN', y = 'CTR-6', data = exim, ax =ax).set(title='Strip Plot of CTR versus Human relevance judgements',xlabel='Human relevance judgements',ylabel='CTR %')\n",
    "sns_plot = sns.lineplot(x = x2, y = 'CTR-6', data = exim, ax=ax, color='red', linewidth=1, ci=None)\n",
    "\n"
   ]
  },
  {
   "cell_type": "code",
   "execution_count": 17,
   "id": "c8d9a4e2",
   "metadata": {
    "execution": {
     "iopub.execute_input": "2023-09-03T10:36:51.248429Z",
     "iopub.status.busy": "2023-09-03T10:36:51.247736Z",
     "iopub.status.idle": "2023-09-03T10:36:51.375256Z",
     "shell.execute_reply": "2023-09-03T10:36:51.373768Z"
    },
    "papermill": {
     "duration": 0.145269,
     "end_time": "2023-09-03T10:36:51.378634",
     "exception": false,
     "start_time": "2023-09-03T10:36:51.233365",
     "status": "completed"
    },
    "tags": []
   },
   "outputs": [],
   "source": [
    "# save file\n",
    "sns_plot.figure.savefig(\"/kaggle/working/strip-plot-with-line.png\")\n",
    "#!ls -lrt /kaggle/working\n"
   ]
  },
  {
   "cell_type": "code",
   "execution_count": 18,
   "id": "7540301c",
   "metadata": {
    "execution": {
     "iopub.execute_input": "2023-09-03T10:36:51.406431Z",
     "iopub.status.busy": "2023-09-03T10:36:51.405957Z",
     "iopub.status.idle": "2023-09-03T10:36:51.773168Z",
     "shell.execute_reply": "2023-09-03T10:36:51.770998Z"
    },
    "papermill": {
     "duration": 0.385651,
     "end_time": "2023-09-03T10:36:51.777299",
     "exception": false,
     "start_time": "2023-09-03T10:36:51.391648",
     "status": "completed"
    },
    "tags": []
   },
   "outputs": [
    {
     "data": {
      "text/plain": [
       "[Text(0.5, 1.0, 'Box Plot of CTR versus Human relevance judgements'),\n",
       " Text(0.5, 0, 'Human relevance judgements'),\n",
       " Text(0, 0.5, 'CTR %')]"
      ]
     },
     "execution_count": 18,
     "metadata": {},
     "output_type": "execute_result"
    },
    {
     "data": {
      "image/png": "[encoded data removed]",
      "text/plain": [
       "<Figure size 1080x720 with 1 Axes>"
      ]
     },
     "metadata": {},
     "output_type": "display_data"
    }
   ],
   "source": [
    "sns.boxplot(x = 'HUMAN', y = 'CTR-6', data = exim, whis=4).set(title='Box Plot of CTR versus Human relevance judgements',xlabel='Human relevance judgements',ylabel='CTR %')\n"
   ]
  },
  {
   "cell_type": "code",
   "execution_count": 19,
   "id": "4ea5e63c",
   "metadata": {
    "execution": {
     "iopub.execute_input": "2023-09-03T10:36:51.814374Z",
     "iopub.status.busy": "2023-09-03T10:36:51.812702Z",
     "iopub.status.idle": "2023-09-03T10:37:07.321571Z",
     "shell.execute_reply": "2023-09-03T10:37:07.319788Z"
    },
    "papermill": {
     "duration": 15.529767,
     "end_time": "2023-09-03T10:37:07.324987",
     "exception": false,
     "start_time": "2023-09-03T10:36:51.795220",
     "status": "completed"
    },
    "tags": []
   },
   "outputs": [
    {
     "name": "stdout",
     "output_type": "stream",
     "text": [
      "Requirement already satisfied: scipy in /opt/conda/lib/python3.7/site-packages (1.7.3)\r\n",
      "Requirement already satisfied: numpy<1.23.0,>=1.16.5 in /opt/conda/lib/python3.7/site-packages (from scipy) (1.21.6)\r\n",
      "\u001b[33mWARNING: Running pip as the 'root' user can result in broken permissions and conflicting behaviour with the system package manager. It is recommended to use a virtual environment instead: https://pip.pypa.io/warnings/venv\u001b[0m\u001b[33m\r\n",
      "\u001b[0m"
     ]
    }
   ],
   "source": [
    "!pip3 install scipy"
   ]
  },
  {
   "cell_type": "code",
   "execution_count": 20,
   "id": "04523903",
   "metadata": {
    "execution": {
     "iopub.execute_input": "2023-09-03T10:37:07.355092Z",
     "iopub.status.busy": "2023-09-03T10:37:07.354506Z",
     "iopub.status.idle": "2023-09-03T10:37:07.361554Z",
     "shell.execute_reply": "2023-09-03T10:37:07.359867Z"
    },
    "papermill": {
     "duration": 0.02554,
     "end_time": "2023-09-03T10:37:07.364353",
     "exception": false,
     "start_time": "2023-09-03T10:37:07.338813",
     "status": "completed"
    },
    "tags": []
   },
   "outputs": [],
   "source": [
    "from scipy.stats import ttest_rel"
   ]
  },
  {
   "cell_type": "code",
   "execution_count": 21,
   "id": "fa3ed214",
   "metadata": {
    "execution": {
     "iopub.execute_input": "2023-09-03T10:37:07.395302Z",
     "iopub.status.busy": "2023-09-03T10:37:07.394644Z",
     "iopub.status.idle": "2023-09-03T10:37:07.401273Z",
     "shell.execute_reply": "2023-09-03T10:37:07.399755Z"
    },
    "papermill": {
     "duration": 0.025475,
     "end_time": "2023-09-03T10:37:07.403916",
     "exception": false,
     "start_time": "2023-09-03T10:37:07.378441",
     "status": "completed"
    },
    "tags": []
   },
   "outputs": [],
   "source": [
    "#exim.rename(columns={'HUMAN':'','CTR-6:''})"
   ]
  },
  {
   "cell_type": "markdown",
   "id": "cc45d102",
   "metadata": {
    "papermill": {
     "duration": 0.013952,
     "end_time": "2023-09-03T10:37:07.432180",
     "exception": false,
     "start_time": "2023-09-03T10:37:07.418228",
     "status": "completed"
    },
    "tags": []
   },
   "source": [
    "# Interpreting the Correlation Coefficient\n",
    "If we wish to label the strength of the association, for absolute values of r, Evans (1996) suggest the following (arbitrary) thresholds can be applied; -\n",
    "* 0-0.19 is regarded as very weak, \n",
    "* 0.2-0.39 as weak, \n",
    "* 0.40-0.59 as moderate, \n",
    "* 0.6-0.79 as strong and \n",
    "* 0.8-1 as very strong correlation\n"
   ]
  },
  {
   "cell_type": "markdown",
   "id": "fec4df7d",
   "metadata": {
    "papermill": {
     "duration": 0.013594,
     "end_time": "2023-09-03T10:37:07.459997",
     "exception": false,
     "start_time": "2023-09-03T10:37:07.446403",
     "status": "completed"
    },
    "tags": []
   },
   "source": [
    "# Pearson versus Spearman\n",
    "Pearson coefficient measures linear trend, \n",
    "Spearman coeffiecient measures monotonic trend"
   ]
  },
  {
   "cell_type": "code",
   "execution_count": 22,
   "id": "73f6a9fb",
   "metadata": {
    "execution": {
     "iopub.execute_input": "2023-09-03T10:37:07.490988Z",
     "iopub.status.busy": "2023-09-03T10:37:07.490461Z",
     "iopub.status.idle": "2023-09-03T10:37:07.497348Z",
     "shell.execute_reply": "2023-09-03T10:37:07.496040Z"
    },
    "papermill": {
     "duration": 0.026588,
     "end_time": "2023-09-03T10:37:07.500165",
     "exception": false,
     "start_time": "2023-09-03T10:37:07.473577",
     "status": "completed"
    },
    "tags": []
   },
   "outputs": [],
   "source": [
    "\n",
    "# calculate the Pearson's correlation between two variables\n",
    "from numpy.random import randn\n",
    "from numpy.random import seed\n",
    "from scipy.stats import pearsonr\n",
    "from scipy.stats import spearmanr\n",
    "# seed random number generator\n",
    "seed(1)\n",
    "# prepare data"
   ]
  },
  {
   "cell_type": "code",
   "execution_count": 23,
   "id": "bb080713",
   "metadata": {
    "execution": {
     "iopub.execute_input": "2023-09-03T10:37:07.529876Z",
     "iopub.status.busy": "2023-09-03T10:37:07.529315Z",
     "iopub.status.idle": "2023-09-03T10:37:07.541362Z",
     "shell.execute_reply": "2023-09-03T10:37:07.539771Z"
    },
    "papermill": {
     "duration": 0.030073,
     "end_time": "2023-09-03T10:37:07.544035",
     "exception": false,
     "start_time": "2023-09-03T10:37:07.513962",
     "status": "completed"
    },
    "tags": []
   },
   "outputs": [
    {
     "name": "stdout",
     "output_type": "stream",
     "text": [
      "Pearson's correlation:  human v click-through-rate: 0.586\n"
     ]
    }
   ],
   "source": [
    "data1 = exim['HUMAN']\n",
    "data2 = exim['CTR-6']\n",
    "\n",
    "data1 = data1.dropna()\n",
    "data2 = data2.dropna()\n",
    "\n",
    "# calculate Pearson's correlation\n",
    "corr, _ = pearsonr(data1, data2)\n",
    "print('Pearson\\'s correlation:  human v click-through-rate: %.3f' % corr)"
   ]
  },
  {
   "cell_type": "code",
   "execution_count": 24,
   "id": "a2115049",
   "metadata": {
    "execution": {
     "iopub.execute_input": "2023-09-03T10:37:07.573866Z",
     "iopub.status.busy": "2023-09-03T10:37:07.572913Z",
     "iopub.status.idle": "2023-09-03T10:37:07.589166Z",
     "shell.execute_reply": "2023-09-03T10:37:07.587445Z"
    },
    "papermill": {
     "duration": 0.034255,
     "end_time": "2023-09-03T10:37:07.591779",
     "exception": false,
     "start_time": "2023-09-03T10:37:07.557524",
     "status": "completed"
    },
    "tags": []
   },
   "outputs": [
    {
     "name": "stdout",
     "output_type": "stream",
     "text": [
      "Spearman's correlation:  human v click-through-rate: 0.437\n"
     ]
    }
   ],
   "source": [
    "data1 = exim['HUMAN']\n",
    "data2 = exim['CTR-6']\n",
    "\n",
    "data1 = data1.dropna()\n",
    "data2 = data2.dropna()\n",
    "\n",
    "from scipy.stats import spearmanr\n",
    "corr, _ = spearmanr(data1, data2)\n",
    "print('Spearman\\'s correlation:  human v click-through-rate: %.3f' % corr)"
   ]
  },
  {
   "cell_type": "code",
   "execution_count": 25,
   "id": "37ce1e99",
   "metadata": {
    "execution": {
     "iopub.execute_input": "2023-09-03T10:37:07.622136Z",
     "iopub.status.busy": "2023-09-03T10:37:07.621579Z",
     "iopub.status.idle": "2023-09-03T10:37:07.633249Z",
     "shell.execute_reply": "2023-09-03T10:37:07.630995Z"
    },
    "papermill": {
     "duration": 0.030394,
     "end_time": "2023-09-03T10:37:07.635899",
     "exception": false,
     "start_time": "2023-09-03T10:37:07.605505",
     "status": "completed"
    },
    "tags": []
   },
   "outputs": [
    {
     "name": "stdout",
     "output_type": "stream",
     "text": [
      "Spearmans correlation coefficient: 0.437\n",
      "p-value 1.6350135746535322e-119\n",
      "Samples are correlated (reject H0) p=0.000\n"
     ]
    }
   ],
   "source": [
    "# calculate spearman's correlation\n",
    "coef, p = spearmanr(data1, data2)\n",
    "print('Spearmans correlation coefficient: %.3f' % coef)\n",
    "print ('p-value',p)\n",
    "# interpret the significance\n",
    "alpha = 0.05\n",
    "if p > alpha:\n",
    "\tprint('Samples are uncorrelated (fail to reject H0) p=%.3f' % p)\n",
    "else:\n",
    "\tprint('Samples are correlated (reject H0) p=%.3f' % p)"
   ]
  }
 ],
 "kernelspec": {
  "display_name": "Python 3",
  "language": "python",
  "name": "python3"
 },
 "language_info": {
  "codemirror_mode": {
   "name": "ipython",
   "version": 3
  },
  "file_extension": ".py",
  "mimetype": "text/x-python",
  "name": "python",
  "nbconvert_exporter": "python",
  "pygments_lexer": "ipython3",
  "version": "3.6.4"
 },
 "metadata": {
  "kernelspec": {
   "display_name": "Python 3",
   "language": "python",
   "name": "python3"
  },
  "language_info": {
   "codemirror_mode": {
    "name": "ipython",
    "version": 3
   },
   "file_extension": ".py",
   "mimetype": "text/x-python",
   "name": "python",
   "nbconvert_exporter": "python",
   "pygments_lexer": "ipython3",
   "version": "3.7.12"
  },
  "papermill": {
   "default_parameters": {},
   "duration": 33.321677,
   "end_time": "2023-09-03T10:37:08.877369",
   "environment_variables": {},
   "exception": null,
   "input_path": "__notebook__.ipynb",
   "output_path": "__notebook__.ipynb",
   "parameters": {},
   "start_time": "2023-09-03T10:36:35.555692",
   "version": "2.3.4"
  }
 },
 "nbformat": 4,
 "nbformat_minor": 5
}
